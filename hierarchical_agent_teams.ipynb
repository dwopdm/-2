{
  "cells": [
    {
      "cell_type": "markdown",
      "metadata": {
        "id": "view-in-github",
        "colab_type": "text"
      },
      "source": [
        "<a href=\"https://colab.research.google.com/github/dwopdm/-2/blob/main/hierarchical_agent_teams.ipynb\" target=\"_parent\"><img src=\"https://colab.research.google.com/assets/colab-badge.svg\" alt=\"Open In Colab\"/></a>"
      ]
    },
    {
      "cell_type": "markdown",
      "id": "a3e3ebc4-57af-4fe4-bdd3-36aff67bf276",
      "metadata": {
        "id": "a3e3ebc4-57af-4fe4-bdd3-36aff67bf276"
      },
      "source": [
        "# Hierarchical Agent Teams\n",
        "\n",
        "In our previous example ([Agent Supervisor](../agent_supervisor)), we introduced the concept of a single [supervisor node](https://langchain-ai.github.io/langgraph/concepts/multi_agent/#supervisor) to route work between different worker nodes.\n",
        "\n",
        "But what if the job for a single worker becomes too complex? What if the number of workers becomes too large?\n",
        "\n",
        "For some applications, the system may be more effective if work is distributed _hierarchically_.\n",
        "\n",
        "You can do this by composing different subgraphs and creating a top-level supervisor, along with mid-level supervisors.\n",
        "\n",
        "To do this, let's build a simple research assistant! The graph will look something like the following:\n",
        "\n",
        "![diagram](attachment:d98ed25c-51cb-441f-a6f4-016921d59fc3.png)\n",
        "\n",
        "This notebook is inspired by the paper [AutoGen: Enabling Next-Gen LLM Applications via Multi-Agent Conversation](https://arxiv.org/abs/2308.08155), by Wu, et. al. In the rest of this notebook, you will:\n",
        "\n",
        "1. Define the agents' tools to access the web and write files\n",
        "2. Define some utilities to help create the graph and agents\n",
        "3. Create and define each team (web research + doc writing)\n",
        "4. Compose everything together.\n",
        "\n",
        "## Setup\n",
        "\n",
        "First, let's install our required packages and set our API keys"
      ]
    },
    {
      "cell_type": "code",
      "execution_count": 1,
      "id": "0d30b6f7-3bec-4d9f-af50-43dfdc81ae6c",
      "metadata": {
        "ExecuteTime": {
          "end_time": "2024-05-15T08:19:42.364369Z",
          "start_time": "2024-05-15T08:19:42.359273Z"
        },
        "id": "0d30b6f7-3bec-4d9f-af50-43dfdc81ae6c"
      },
      "outputs": [],
      "source": [
        "%%capture --no-stderr\n",
        "%pip install -U langgraph langchain_community langchain_anthropic langchain_experimental"
      ]
    },
    {
      "cell_type": "code",
      "source": [
        "!pip install dotenv langchain_opentutorial langchain_openai"
      ],
      "metadata": {
        "colab": {
          "base_uri": "https://localhost:8080/"
        },
        "id": "jaHsA3_4phdF",
        "outputId": "88abe45b-37a3-44ed-cac0-89994e81929a"
      },
      "id": "jaHsA3_4phdF",
      "execution_count": 2,
      "outputs": [
        {
          "output_type": "stream",
          "name": "stdout",
          "text": [
            "Collecting dotenv\n",
            "  Downloading dotenv-0.9.9-py2.py3-none-any.whl.metadata (279 bytes)\n",
            "Collecting langchain_opentutorial\n",
            "  Downloading langchain_opentutorial-0.0.8-py3-none-any.whl.metadata (686 bytes)\n",
            "Collecting langchain_openai\n",
            "  Downloading langchain_openai-0.3.19-py3-none-any.whl.metadata (2.3 kB)\n",
            "Requirement already satisfied: python-dotenv in /usr/local/lib/python3.11/dist-packages (from dotenv) (1.1.0)\n",
            "Requirement already satisfied: requests in /usr/local/lib/python3.11/dist-packages (from langchain_opentutorial) (2.32.3)\n",
            "Requirement already satisfied: langchain-core<1.0.0,>=0.3.63 in /usr/local/lib/python3.11/dist-packages (from langchain_openai) (0.3.63)\n",
            "Requirement already satisfied: openai<2.0.0,>=1.68.2 in /usr/local/lib/python3.11/dist-packages (from langchain_openai) (1.82.1)\n",
            "Requirement already satisfied: tiktoken<1,>=0.7 in /usr/local/lib/python3.11/dist-packages (from langchain_openai) (0.9.0)\n",
            "Requirement already satisfied: langsmith<0.4,>=0.1.126 in /usr/local/lib/python3.11/dist-packages (from langchain-core<1.0.0,>=0.3.63->langchain_openai) (0.3.43)\n",
            "Requirement already satisfied: tenacity!=8.4.0,<10.0.0,>=8.1.0 in /usr/local/lib/python3.11/dist-packages (from langchain-core<1.0.0,>=0.3.63->langchain_openai) (9.1.2)\n",
            "Requirement already satisfied: jsonpatch<2.0,>=1.33 in /usr/local/lib/python3.11/dist-packages (from langchain-core<1.0.0,>=0.3.63->langchain_openai) (1.33)\n",
            "Requirement already satisfied: PyYAML>=5.3 in /usr/local/lib/python3.11/dist-packages (from langchain-core<1.0.0,>=0.3.63->langchain_openai) (6.0.2)\n",
            "Requirement already satisfied: packaging<25,>=23.2 in /usr/local/lib/python3.11/dist-packages (from langchain-core<1.0.0,>=0.3.63->langchain_openai) (24.2)\n",
            "Requirement already satisfied: typing-extensions>=4.7 in /usr/local/lib/python3.11/dist-packages (from langchain-core<1.0.0,>=0.3.63->langchain_openai) (4.13.2)\n",
            "Requirement already satisfied: pydantic>=2.7.4 in /usr/local/lib/python3.11/dist-packages (from langchain-core<1.0.0,>=0.3.63->langchain_openai) (2.11.5)\n",
            "Requirement already satisfied: anyio<5,>=3.5.0 in /usr/local/lib/python3.11/dist-packages (from openai<2.0.0,>=1.68.2->langchain_openai) (4.9.0)\n",
            "Requirement already satisfied: distro<2,>=1.7.0 in /usr/local/lib/python3.11/dist-packages (from openai<2.0.0,>=1.68.2->langchain_openai) (1.9.0)\n",
            "Requirement already satisfied: httpx<1,>=0.23.0 in /usr/local/lib/python3.11/dist-packages (from openai<2.0.0,>=1.68.2->langchain_openai) (0.28.1)\n",
            "Requirement already satisfied: jiter<1,>=0.4.0 in /usr/local/lib/python3.11/dist-packages (from openai<2.0.0,>=1.68.2->langchain_openai) (0.10.0)\n",
            "Requirement already satisfied: sniffio in /usr/local/lib/python3.11/dist-packages (from openai<2.0.0,>=1.68.2->langchain_openai) (1.3.1)\n",
            "Requirement already satisfied: tqdm>4 in /usr/local/lib/python3.11/dist-packages (from openai<2.0.0,>=1.68.2->langchain_openai) (4.67.1)\n",
            "Requirement already satisfied: regex>=2022.1.18 in /usr/local/lib/python3.11/dist-packages (from tiktoken<1,>=0.7->langchain_openai) (2024.11.6)\n",
            "Requirement already satisfied: charset-normalizer<4,>=2 in /usr/local/lib/python3.11/dist-packages (from requests->langchain_opentutorial) (3.4.2)\n",
            "Requirement already satisfied: idna<4,>=2.5 in /usr/local/lib/python3.11/dist-packages (from requests->langchain_opentutorial) (3.10)\n",
            "Requirement already satisfied: urllib3<3,>=1.21.1 in /usr/local/lib/python3.11/dist-packages (from requests->langchain_opentutorial) (2.4.0)\n",
            "Requirement already satisfied: certifi>=2017.4.17 in /usr/local/lib/python3.11/dist-packages (from requests->langchain_opentutorial) (2025.4.26)\n",
            "Requirement already satisfied: httpcore==1.* in /usr/local/lib/python3.11/dist-packages (from httpx<1,>=0.23.0->openai<2.0.0,>=1.68.2->langchain_openai) (1.0.9)\n",
            "Requirement already satisfied: h11>=0.16 in /usr/local/lib/python3.11/dist-packages (from httpcore==1.*->httpx<1,>=0.23.0->openai<2.0.0,>=1.68.2->langchain_openai) (0.16.0)\n",
            "Requirement already satisfied: jsonpointer>=1.9 in /usr/local/lib/python3.11/dist-packages (from jsonpatch<2.0,>=1.33->langchain-core<1.0.0,>=0.3.63->langchain_openai) (3.0.0)\n",
            "Requirement already satisfied: orjson<4.0.0,>=3.9.14 in /usr/local/lib/python3.11/dist-packages (from langsmith<0.4,>=0.1.126->langchain-core<1.0.0,>=0.3.63->langchain_openai) (3.10.18)\n",
            "Requirement already satisfied: requests-toolbelt<2.0.0,>=1.0.0 in /usr/local/lib/python3.11/dist-packages (from langsmith<0.4,>=0.1.126->langchain-core<1.0.0,>=0.3.63->langchain_openai) (1.0.0)\n",
            "Requirement already satisfied: zstandard<0.24.0,>=0.23.0 in /usr/local/lib/python3.11/dist-packages (from langsmith<0.4,>=0.1.126->langchain-core<1.0.0,>=0.3.63->langchain_openai) (0.23.0)\n",
            "Requirement already satisfied: annotated-types>=0.6.0 in /usr/local/lib/python3.11/dist-packages (from pydantic>=2.7.4->langchain-core<1.0.0,>=0.3.63->langchain_openai) (0.7.0)\n",
            "Requirement already satisfied: pydantic-core==2.33.2 in /usr/local/lib/python3.11/dist-packages (from pydantic>=2.7.4->langchain-core<1.0.0,>=0.3.63->langchain_openai) (2.33.2)\n",
            "Requirement already satisfied: typing-inspection>=0.4.0 in /usr/local/lib/python3.11/dist-packages (from pydantic>=2.7.4->langchain-core<1.0.0,>=0.3.63->langchain_openai) (0.4.1)\n",
            "Downloading dotenv-0.9.9-py2.py3-none-any.whl (1.9 kB)\n",
            "Downloading langchain_opentutorial-0.0.8-py3-none-any.whl (22 kB)\n",
            "Downloading langchain_openai-0.3.19-py3-none-any.whl (64 kB)\n",
            "\u001b[2K   \u001b[90m━━━━━━━━━━━━━━━━━━━━━━━━━━━━━━━━━━━━━━━━\u001b[0m \u001b[32m64.5/64.5 kB\u001b[0m \u001b[31m2.7 MB/s\u001b[0m eta \u001b[36m0:00:00\u001b[0m\n",
            "\u001b[?25hInstalling collected packages: dotenv, langchain_opentutorial, langchain_openai\n",
            "Successfully installed dotenv-0.9.9 langchain_openai-0.3.19 langchain_opentutorial-0.0.8\n"
          ]
        }
      ]
    },
    {
      "cell_type": "code",
      "execution_count": 3,
      "id": "30c2f3de-c730-4aec-85a6-af2c2f058803",
      "metadata": {
        "ExecuteTime": {
          "end_time": "2024-05-15T08:19:42.395571Z",
          "start_time": "2024-05-15T08:19:42.365662Z"
        },
        "colab": {
          "base_uri": "https://localhost:8080/"
        },
        "id": "30c2f3de-c730-4aec-85a6-af2c2f058803",
        "outputId": "f8e7d2d8-e769-471a-9da6-b48da05b84e3"
      },
      "outputs": [
        {
          "output_type": "stream",
          "name": "stdout",
          "text": [
            "Environment variables have been set successfully.\n"
          ]
        }
      ],
      "source": [
        "from dotenv import load_dotenv\n",
        "from langchain_opentutorial import set_env\n",
        "\n",
        "# Attempt to load environment variables from a .env file; if unsuccessful, set them manually.\n",
        "if not load_dotenv():\n",
        "    set_env(\n",
        "        {\n",
        "        \"OPENAI_API_KEY\": \"sk-bskltzneugkxyvmgxidbwosfapjbgjkdfwwenptqzmjrlrqm\",\n",
        "        \"OPENAI_API_BASE\":\"https://api.siliconflow.cn/v1\",\n",
        "        #\"OPENAI_API_BASE\":\"https://api.deepseek.com\",\n",
        "        #\"OPENAI_API_KEY\":\"sk-cbe5ca43ecdf42bd9e7c1e18cc78e776\",\n",
        "\n",
        "        \"LANGCHAIN_API_KEY\": \"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\",\n",
        "        \"TAVILY_API_KEY\": \"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\",\n",
        "        \"LANGCHAIN_TRACING_V2\": \"true\",\n",
        "        \"LANGCHAIN_ENDPOINT\": \"https://api.smith.langchain.com\",\n",
        "        \"LANGCHAIN_PROJECT\": \"Multi-Agent-Structures-02\",\n",
        "\n",
        "        }\n",
        "    )\n",
        "from langchain_openai import ChatOpenAI\n",
        "\n",
        "llm = ChatOpenAI(model=\"deepseek-ai/DeepSeek-V3\", temperature=0.7)"
      ]
    },
    {
      "cell_type": "markdown",
      "id": "04fdd0a3",
      "metadata": {
        "id": "04fdd0a3"
      },
      "source": [
        "<div class=\"admonition tip\">\n",
        "    <p class=\"admonition-title\">Set up <a href=\"https://smith.langchain.com\">LangSmith</a> for LangGraph development</p>\n",
        "    <p style=\"padding-top: 5px;\">\n",
        "        Sign up for LangSmith to quickly spot issues and improve the performance of your LangGraph projects. LangSmith lets you use trace data to debug, test, and monitor your LLM apps built with LangGraph — read more about how to get started <a href=\"https://docs.smith.langchain.com\">here</a>.\n",
        "    </p>\n",
        "</div>"
      ]
    },
    {
      "cell_type": "markdown",
      "id": "354568e2-aef0-4af9-8a79-e64d3eea752f",
      "metadata": {
        "id": "354568e2-aef0-4af9-8a79-e64d3eea752f"
      },
      "source": [
        "## Create Tools\n",
        "\n",
        "Each team will be composed of one or more agents each with one or more tools. Below, define all the tools to be used by your different teams.\n",
        "\n",
        "We'll start with the research team.\n",
        "\n",
        "**ResearchTeam tools**\n",
        "\n",
        "The research team can use a search engine and url scraper to find information on the web. Feel free to add additional functionality below to boost the team performance!"
      ]
    },
    {
      "cell_type": "code",
      "execution_count": 4,
      "id": "4024eb89-843d-4cc3-ab3f-e1eb4d031179",
      "metadata": {
        "ExecuteTime": {
          "end_time": "2024-05-15T08:19:44.477064Z",
          "start_time": "2024-05-15T08:19:42.397083Z"
        },
        "colab": {
          "base_uri": "https://localhost:8080/"
        },
        "id": "4024eb89-843d-4cc3-ab3f-e1eb4d031179",
        "outputId": "2986f306-7924-4ca0-cd55-617cdee1b671"
      },
      "outputs": [
        {
          "output_type": "stream",
          "name": "stderr",
          "text": [
            "WARNING:langchain_community.utils.user_agent:USER_AGENT environment variable not set, consider setting it to identify your requests.\n"
          ]
        }
      ],
      "source": [
        "from typing import Annotated, List\n",
        "\n",
        "from langchain_community.document_loaders import WebBaseLoader\n",
        "from langchain_community.tools.tavily_search import TavilySearchResults\n",
        "from langchain_core.tools import tool\n",
        "\n",
        "tavily_tool = TavilySearchResults(max_results=5)\n",
        "\n",
        "\n",
        "@tool\n",
        "def scrape_webpages(urls: List[str]) -> str:\n",
        "    \"\"\"Use requests and bs4 to scrape the provided web pages for detailed information.\"\"\"\n",
        "    loader = WebBaseLoader(urls)\n",
        "    docs = loader.load()\n",
        "    return \"\\n\\n\".join(\n",
        "        [\n",
        "            f'<Document name=\"{doc.metadata.get(\"title\", \"\")}\">\\n{doc.page_content}\\n</Document>'\n",
        "            for doc in docs\n",
        "        ]\n",
        "    )"
      ]
    },
    {
      "cell_type": "markdown",
      "id": "1c427982-fadf-4721-a77e-2465df9fc6bc",
      "metadata": {
        "id": "1c427982-fadf-4721-a77e-2465df9fc6bc"
      },
      "source": [
        "**Document writing team tools**\n",
        "\n",
        "Next up, we will give some tools for the doc writing team to use.\n",
        "We define some bare-bones file-access tools below.\n",
        "\n",
        "Note that this gives the agents access to your file-system, which can be unsafe. We also haven't optimized the tool descriptions for performance."
      ]
    },
    {
      "cell_type": "code",
      "execution_count": 5,
      "id": "f20a18ca-2709-4c12-84f3-88678591a9fa",
      "metadata": {
        "ExecuteTime": {
          "end_time": "2024-05-15T08:19:44.538421Z",
          "start_time": "2024-05-15T08:19:44.479132Z"
        },
        "id": "f20a18ca-2709-4c12-84f3-88678591a9fa"
      },
      "outputs": [],
      "source": [
        "from pathlib import Path\n",
        "from tempfile import TemporaryDirectory\n",
        "from typing import Dict, Optional\n",
        "\n",
        "from langchain_experimental.utilities import PythonREPL\n",
        "from typing_extensions import TypedDict\n",
        "\n",
        "_TEMP_DIRECTORY = TemporaryDirectory()\n",
        "WORKING_DIRECTORY = Path(_TEMP_DIRECTORY.name)\n",
        "\n",
        "\n",
        "@tool\n",
        "def create_outline(\n",
        "    points: Annotated[List[str], \"List of main points or sections.\"],\n",
        "    file_name: Annotated[str, \"File path to save the outline.\"],\n",
        ") -> Annotated[str, \"Path of the saved outline file.\"]:\n",
        "    \"\"\"Create and save an outline.\"\"\"\n",
        "    with (WORKING_DIRECTORY / file_name).open(\"w\") as file:\n",
        "        for i, point in enumerate(points):\n",
        "            file.write(f\"{i + 1}. {point}\\n\")\n",
        "    return f\"Outline saved to {file_name}\"\n",
        "\n",
        "\n",
        "@tool\n",
        "def read_document(\n",
        "    file_name: Annotated[str, \"File path to read the document from.\"],\n",
        "    start: Annotated[Optional[int], \"The start line. Default is 0\"] = None,\n",
        "    end: Annotated[Optional[int], \"The end line. Default is None\"] = None,\n",
        ") -> str:\n",
        "    \"\"\"Read the specified document.\"\"\"\n",
        "    with (WORKING_DIRECTORY / file_name).open(\"r\") as file:\n",
        "        lines = file.readlines()\n",
        "    if start is None:\n",
        "        start = 0\n",
        "    return \"\\n\".join(lines[start:end])\n",
        "\n",
        "\n",
        "@tool\n",
        "def write_document(\n",
        "    content: Annotated[str, \"Text content to be written into the document.\"],\n",
        "    file_name: Annotated[str, \"File path to save the document.\"],\n",
        ") -> Annotated[str, \"Path of the saved document file.\"]:\n",
        "    \"\"\"Create and save a text document.\"\"\"\n",
        "    with (WORKING_DIRECTORY / file_name).open(\"w\") as file:\n",
        "        file.write(content)\n",
        "    return f\"Document saved to {file_name}\"\n",
        "\n",
        "\n",
        "@tool\n",
        "def edit_document(\n",
        "    file_name: Annotated[str, \"Path of the document to be edited.\"],\n",
        "    inserts: Annotated[\n",
        "        Dict[int, str],\n",
        "        \"Dictionary where key is the line number (1-indexed) and value is the text to be inserted at that line.\",\n",
        "    ],\n",
        ") -> Annotated[str, \"Path of the edited document file.\"]:\n",
        "    \"\"\"Edit a document by inserting text at specific line numbers.\"\"\"\n",
        "\n",
        "    with (WORKING_DIRECTORY / file_name).open(\"r\") as file:\n",
        "        lines = file.readlines()\n",
        "\n",
        "    sorted_inserts = sorted(inserts.items())\n",
        "\n",
        "    for line_number, text in sorted_inserts:\n",
        "        if 1 <= line_number <= len(lines) + 1:\n",
        "            lines.insert(line_number - 1, text + \"\\n\")\n",
        "        else:\n",
        "            return f\"Error: Line number {line_number} is out of range.\"\n",
        "\n",
        "    with (WORKING_DIRECTORY / file_name).open(\"w\") as file:\n",
        "        file.writelines(lines)\n",
        "\n",
        "    return f\"Document edited and saved to {file_name}\"\n",
        "\n",
        "\n",
        "# Warning: This executes code locally, which can be unsafe when not sandboxed\n",
        "\n",
        "repl = PythonREPL()\n",
        "\n",
        "\n",
        "@tool\n",
        "def python_repl_tool(\n",
        "    code: Annotated[str, \"The python code to execute to generate your chart.\"],\n",
        "):\n",
        "    \"\"\"Use this to execute python code. If you want to see the output of a value,\n",
        "    you should print it out with `print(...)`. This is visible to the user.\"\"\"\n",
        "    try:\n",
        "        result = repl.run(code)\n",
        "    except BaseException as e:\n",
        "        return f\"Failed to execute. Error: {repr(e)}\"\n",
        "    return f\"Successfully executed:\\n```python\\n{code}\\n```\\nStdout: {result}\""
      ]
    },
    {
      "cell_type": "markdown",
      "id": "504ee1c6-2b6a-439d-9046-df54e1e15698",
      "metadata": {
        "id": "504ee1c6-2b6a-439d-9046-df54e1e15698"
      },
      "source": [
        "## Helper Utilities\n",
        "\n",
        "We are going to create a few utility functions to make it more concise when we want to:\n",
        "\n",
        "1. Create a worker agent.\n",
        "2. Create a supervisor for the sub-graph.\n",
        "\n",
        "These will simplify the graph compositional code at the end for us so it's easier to see what's going on."
      ]
    },
    {
      "cell_type": "code",
      "execution_count": 6,
      "id": "e09fb60f-1aac-455b-b67d-8d2e4ccfd747",
      "metadata": {
        "ExecuteTime": {
          "end_time": "2024-05-15T08:19:46.559082Z",
          "start_time": "2024-05-15T08:19:44.541330Z"
        },
        "id": "e09fb60f-1aac-455b-b67d-8d2e4ccfd747"
      },
      "outputs": [],
      "source": [
        "from typing import List, Optional, Literal\n",
        "from langchain_core.language_models.chat_models import BaseChatModel\n",
        "\n",
        "from langgraph.graph import StateGraph, MessagesState, START, END\n",
        "from langgraph.types import Command\n",
        "from langchain_core.messages import HumanMessage, trim_messages\n",
        "\n",
        "\n",
        "class State(MessagesState):\n",
        "    next: str\n",
        "\n",
        "\n",
        "def make_supervisor_node(llm: BaseChatModel, members: list[str]) -> str:\n",
        "    options = [\"FINISH\"] + members\n",
        "    system_prompt = (\n",
        "        \"You are a supervisor tasked with managing a conversation between the\"\n",
        "        f\" following workers: {members}. Given the following user request,\"\n",
        "        \" respond with the worker to act next. Each worker will perform a\"\n",
        "        \" task and respond with their results and status. When finished,\"\n",
        "        \" respond with FINISH.\"\n",
        "    )\n",
        "\n",
        "    class Router(TypedDict):\n",
        "        \"\"\"Worker to route to next. If no workers needed, route to FINISH.\"\"\"\n",
        "\n",
        "        next: Literal[*options]\n",
        "\n",
        "    def supervisor_node(state: State) -> Command[Literal[*members, \"__end__\"]]:\n",
        "        \"\"\"An LLM-based router.\"\"\"\n",
        "        messages = [\n",
        "            {\"role\": \"system\", \"content\": system_prompt},\n",
        "        ] + state[\"messages\"]\n",
        "        response = llm.with_structured_output(Router).invoke(messages)\n",
        "        goto = response[\"next\"]\n",
        "        if goto == \"FINISH\":\n",
        "            goto = END\n",
        "\n",
        "        return Command(goto=goto, update={\"next\": goto})\n",
        "\n",
        "    return supervisor_node"
      ]
    },
    {
      "cell_type": "markdown",
      "id": "00282b1f-bb4d-4ee7-9bae-e8e6f586f12e",
      "metadata": {
        "id": "00282b1f-bb4d-4ee7-9bae-e8e6f586f12e"
      },
      "source": [
        "## Define Agent Teams\n",
        "\n",
        "Now we can get to define our hierarchical teams. \"Choose your player!\"\n",
        "\n",
        "### Research Team\n",
        "\n",
        "The research team will have a search agent and a web scraping \"research_agent\" as the two worker nodes. Let's create those, as well as the team supervisor."
      ]
    },
    {
      "cell_type": "code",
      "execution_count": 7,
      "id": "53db0c78-e357-48ba-ae5f-3fc04735a3b7",
      "metadata": {
        "ExecuteTime": {
          "end_time": "2024-05-15T08:19:48.810290Z",
          "start_time": "2024-05-15T08:19:46.561088Z"
        },
        "id": "53db0c78-e357-48ba-ae5f-3fc04735a3b7"
      },
      "outputs": [],
      "source": [
        "from langchain_core.messages import HumanMessage\n",
        "from langchain_openai import ChatOpenAI\n",
        "from langgraph.prebuilt import create_react_agent\n",
        "\n",
        "\n",
        "search_agent = create_react_agent(llm, tools=[tavily_tool])\n",
        "\n",
        "\n",
        "def search_node(state: State) -> Command[Literal[\"supervisor\"]]:\n",
        "    result = search_agent.invoke(state)\n",
        "    return Command(\n",
        "        update={\n",
        "            \"messages\": [\n",
        "                HumanMessage(content=result[\"messages\"][-1].content, name=\"search\")\n",
        "            ]\n",
        "        },\n",
        "        # We want our workers to ALWAYS \"report back\" to the supervisor when done\n",
        "        goto=\"supervisor\",\n",
        "    )\n",
        "\n",
        "\n",
        "web_scraper_agent = create_react_agent(llm, tools=[scrape_webpages])\n",
        "\n",
        "\n",
        "def web_scraper_node(state: State) -> Command[Literal[\"supervisor\"]]:\n",
        "    result = web_scraper_agent.invoke(state)\n",
        "    return Command(\n",
        "        update={\n",
        "            \"messages\": [\n",
        "                HumanMessage(content=result[\"messages\"][-1].content, name=\"web_scraper\")\n",
        "            ]\n",
        "        },\n",
        "        # We want our workers to ALWAYS \"report back\" to the supervisor when done\n",
        "        goto=\"supervisor\",\n",
        "    )\n",
        "\n",
        "\n",
        "research_supervisor_node = make_supervisor_node(llm, [\"search\", \"web_scraper\"])"
      ]
    },
    {
      "cell_type": "markdown",
      "id": "b01c6ee8-a461-4081-8a97-a3a06ec0f994",
      "metadata": {
        "id": "b01c6ee8-a461-4081-8a97-a3a06ec0f994"
      },
      "source": [
        "Now that we've created the necessary components, defining their interactions is easy. Add the nodes to the team graph, and define the edges, which determine the transition criteria."
      ]
    },
    {
      "cell_type": "code",
      "execution_count": 8,
      "id": "1a7a1260-d9f6-4011-b2b1-13fab5126997",
      "metadata": {
        "ExecuteTime": {
          "end_time": "2024-05-15T08:19:48.825649Z",
          "start_time": "2024-05-15T08:19:48.811753Z"
        },
        "id": "1a7a1260-d9f6-4011-b2b1-13fab5126997"
      },
      "outputs": [],
      "source": [
        "research_builder = StateGraph(State)\n",
        "research_builder.add_node(\"supervisor\", research_supervisor_node)\n",
        "research_builder.add_node(\"search\", search_node)\n",
        "research_builder.add_node(\"web_scraper\", web_scraper_node)\n",
        "\n",
        "research_builder.add_edge(START, \"supervisor\")\n",
        "research_graph = research_builder.compile()"
      ]
    },
    {
      "cell_type": "code",
      "execution_count": 9,
      "id": "110f59bed6134685",
      "metadata": {
        "ExecuteTime": {
          "end_time": "2024-05-15T08:19:51.936523Z",
          "start_time": "2024-05-15T08:19:48.827798Z"
        },
        "colab": {
          "base_uri": "https://localhost:8080/",
          "height": 266
        },
        "id": "110f59bed6134685",
        "outputId": "2b868ab7-1184-4041-cee1-5bd8f11923e4"
      },
      "outputs": [
        {
          "output_type": "display_data",
          "data": {
            "image/png": "[encoded data removed]",
            "text/plain": [
              "<IPython.core.display.Image object>"
            ]
          },
          "metadata": {}
        }
      ],
      "source": [
        "from IPython.display import Image, display\n",
        "\n",
        "display(Image(research_graph.get_graph().draw_mermaid_png()))"
      ]
    },
    {
      "cell_type": "markdown",
      "id": "63ee8f2c-fbde-427b-ba54-ae0c7ce5fbfb",
      "metadata": {
        "id": "63ee8f2c-fbde-427b-ba54-ae0c7ce5fbfb"
      },
      "source": [
        "We can give this team work directly. Try it out below."
      ]
    },
    {
      "cell_type": "code",
      "execution_count": 10,
      "id": "912b0604-a178-4246-a36f-2dedae606680",
      "metadata": {
        "ExecuteTime": {
          "end_time": "2024-05-15T08:19:51.952470Z",
          "start_time": "2024-05-15T08:19:51.937879Z"
        },
        "colab": {
          "base_uri": "https://localhost:8080/"
        },
        "id": "912b0604-a178-4246-a36f-2dedae606680",
        "outputId": "0c20aa4d-6b74-4002-8aae-f99435f683c7"
      },
      "outputs": [
        {
          "output_type": "stream",
          "name": "stdout",
          "text": [
            "{'supervisor': {'next': 'search'}}\n",
            "---\n",
            "{'search': {'messages': [HumanMessage(content=\"Taylor Swift's current tour, **The Eras Tour**, has dates scheduled through 2023 and into 2024. Here are some highlights:\\n\\n### Upcoming International Dates:\\n- **August 24-27, 2023**: Mexico City, Mexico\\n- **November 17-26, 2023**: Rio de Janeiro and São Paulo, Brazil\\n\\n### Additional U.S. Dates:\\n- Newly added shows are also taking place in various cities.\\n\\nFor the full schedule and ticket information, you can check out the following resources:\\n- [Genius – The Eras Tour Dates](https://genius.com/Taylor-swift-the-eras-tour-dates-annotated)\\n- [NJ.com – Taylor Swift Tour 2023](https://www.nj.com/live-entertainment/2023/03/taylor-swift-tour-2023-full-schedule-dates-where-to-buy-tickets.html)\\n- [Holler – Taylor Swift Concert Tour 2023](https://holler.country/news/general/taylor-swift-concert-tour-2023-tickets-and-dates)\\n\\nWould you like help finding tickets or more specific details about a particular location?\", additional_kwargs={}, response_metadata={}, name='search', id='1ae6cec6-11df-4d11-bddd-65ca26843df2')]}}\n",
            "---\n",
            "{'supervisor': {'next': '__end__'}}\n",
            "---\n"
          ]
        }
      ],
      "source": [
        "for s in research_graph.stream(\n",
        "    {\"messages\": [(\"user\", \"when is Taylor Swift's next tour?\")]},\n",
        "    {\"recursion_limit\": 100},\n",
        "):\n",
        "    print(s)\n",
        "    print(\"---\")"
      ]
    },
    {
      "cell_type": "markdown",
      "id": "749b99ab-f6f0-4c5d-a90b-10102465d186",
      "metadata": {
        "id": "749b99ab-f6f0-4c5d-a90b-10102465d186"
      },
      "source": [
        "### Document Writing Team\n",
        "\n",
        "Create the document writing team below using a similar approach. This time, we will give each agent access to different file-writing tools.\n",
        "\n",
        "Note that we are giving file-system access to our agent here, which is not safe in all cases."
      ]
    },
    {
      "cell_type": "code",
      "execution_count": 11,
      "id": "1bcdbf44-9481-430c-8429-fa142ed8a626",
      "metadata": {
        "ExecuteTime": {
          "end_time": "2024-05-15T08:19:53.677722Z",
          "start_time": "2024-05-15T08:19:51.953933Z"
        },
        "id": "1bcdbf44-9481-430c-8429-fa142ed8a626"
      },
      "outputs": [],
      "source": [
        "\n",
        "\n",
        "doc_writer_agent = create_react_agent(\n",
        "    llm,\n",
        "    tools=[write_document, edit_document, read_document],\n",
        "    prompt=(\n",
        "        \"You can read, write and edit documents based on note-taker's outlines. \"\n",
        "        \"Don't ask follow-up questions.\"\n",
        "    ),\n",
        ")\n",
        "\n",
        "\n",
        "def doc_writing_node(state: State) -> Command[Literal[\"supervisor\"]]:\n",
        "    result = doc_writer_agent.invoke(state)\n",
        "    return Command(\n",
        "        update={\n",
        "            \"messages\": [\n",
        "                HumanMessage(content=result[\"messages\"][-1].content, name=\"doc_writer\")\n",
        "            ]\n",
        "        },\n",
        "        # We want our workers to ALWAYS \"report back\" to the supervisor when done\n",
        "        goto=\"supervisor\",\n",
        "    )\n",
        "\n",
        "\n",
        "note_taking_agent = create_react_agent(\n",
        "    llm,\n",
        "    tools=[create_outline, read_document],\n",
        "    prompt=(\n",
        "        \"You can read documents and create outlines for the document writer. \"\n",
        "        \"Don't ask follow-up questions.\"\n",
        "    ),\n",
        ")\n",
        "\n",
        "\n",
        "def note_taking_node(state: State) -> Command[Literal[\"supervisor\"]]:\n",
        "    result = note_taking_agent.invoke(state)\n",
        "    return Command(\n",
        "        update={\n",
        "            \"messages\": [\n",
        "                HumanMessage(content=result[\"messages\"][-1].content, name=\"note_taker\")\n",
        "            ]\n",
        "        },\n",
        "        # We want our workers to ALWAYS \"report back\" to the supervisor when done\n",
        "        goto=\"supervisor\",\n",
        "    )\n",
        "\n",
        "\n",
        "chart_generating_agent = create_react_agent(\n",
        "    llm, tools=[read_document, python_repl_tool]\n",
        ")\n",
        "\n",
        "\n",
        "def chart_generating_node(state: State) -> Command[Literal[\"supervisor\"]]:\n",
        "    result = chart_generating_agent.invoke(state)\n",
        "    return Command(\n",
        "        update={\n",
        "            \"messages\": [\n",
        "                HumanMessage(\n",
        "                    content=result[\"messages\"][-1].content, name=\"chart_generator\"\n",
        "                )\n",
        "            ]\n",
        "        },\n",
        "        # We want our workers to ALWAYS \"report back\" to the supervisor when done\n",
        "        goto=\"supervisor\",\n",
        "    )\n",
        "\n",
        "\n",
        "doc_writing_supervisor_node = make_supervisor_node(\n",
        "    llm, [\"doc_writer\", \"note_taker\", \"chart_generator\"]\n",
        ")"
      ]
    },
    {
      "cell_type": "markdown",
      "id": "aee2cd9b-29aa-458e-903d-4e49179e5d59",
      "metadata": {
        "id": "aee2cd9b-29aa-458e-903d-4e49179e5d59"
      },
      "source": [
        "With the objects themselves created, we can form the graph."
      ]
    },
    {
      "cell_type": "code",
      "execution_count": 12,
      "id": "9c5c644f-8966-4d2e-98d2-80d73520e9fe",
      "metadata": {
        "ExecuteTime": {
          "end_time": "2024-05-15T08:19:53.693123Z",
          "start_time": "2024-05-15T08:19:53.678906Z"
        },
        "id": "9c5c644f-8966-4d2e-98d2-80d73520e9fe"
      },
      "outputs": [],
      "source": [
        "# Create the graph here\n",
        "paper_writing_builder = StateGraph(State)\n",
        "paper_writing_builder.add_node(\"supervisor\", doc_writing_supervisor_node)\n",
        "paper_writing_builder.add_node(\"doc_writer\", doc_writing_node)\n",
        "paper_writing_builder.add_node(\"note_taker\", note_taking_node)\n",
        "paper_writing_builder.add_node(\"chart_generator\", chart_generating_node)\n",
        "\n",
        "paper_writing_builder.add_edge(START, \"supervisor\")\n",
        "paper_writing_graph = paper_writing_builder.compile()"
      ]
    },
    {
      "cell_type": "code",
      "execution_count": 13,
      "id": "58e7d1e48a9c39a5",
      "metadata": {
        "ExecuteTime": {
          "end_time": "2024-05-15T08:32:13.913188Z",
          "start_time": "2024-05-15T08:32:11.598993Z"
        },
        "colab": {
          "base_uri": "https://localhost:8080/",
          "height": 266
        },
        "id": "58e7d1e48a9c39a5",
        "outputId": "06df8684-e9b4-4094-b0bb-2260ba09debf"
      },
      "outputs": [
        {
          "output_type": "display_data",
          "data": {
            "image/png": "[encoded data removed]",
            "text/plain": [
              "<IPython.core.display.Image object>"
            ]
          },
          "metadata": {}
        }
      ],
      "source": [
        "from IPython.display import Image, display\n",
        "\n",
        "display(Image(paper_writing_graph.get_graph().draw_mermaid_png()))"
      ]
    },
    {
      "cell_type": "code",
      "execution_count": 14,
      "id": "9860fd46-c24d-40a5-a6ba-e8fddcd43369",
      "metadata": {
        "ExecuteTime": {
          "end_time": "2024-05-15T08:19:53.723467Z",
          "start_time": "2024-05-15T08:19:53.709307Z"
        },
        "colab": {
          "base_uri": "https://localhost:8080/"
        },
        "id": "9860fd46-c24d-40a5-a6ba-e8fddcd43369",
        "outputId": "129d89f7-7e2b-4e5f-e4bc-6df3c7a85ae0"
      },
      "outputs": [
        {
          "output_type": "stream",
          "name": "stdout",
          "text": [
            "{'supervisor': {'next': 'doc_writer'}}\n",
            "---\n",
            "{'doc_writer': {'messages': [HumanMessage(content='<｜tool▁calls▁begin｜><｜tool▁call▁begin｜>function<｜tool▁sep｜>write_document\\n```json\\n{\"content\": \"Whispers of the Night\\\\n\\\\nIn shadows deep, they softly tread,\\\\nA mystery in every thread.\\\\nWith eyes that gleam like golden spheres,\\\\nThey guard the night, dispelling fears.\\\\n\\\\nA leap, a bound, a playful chase,\\\\nA ballet sprung with perfect grace.\\\\nThe world\\'s a toy, a grand delight,\\\\nExplored with paws so small and light.\\\\n\\\\nBeside the fire, they curl and purr,\\\\nA gentle sound, a soothing stir.\\\\nTheir presence warms the coldest air,\\\\nA bond unspoken, strong and rare.\\\\n\\\\nIn silent hours, they sit so near,\\\\nA quiet love, so true, so clear.\\\\nNo words are needed, just their gaze,\\\\nA language known in ancient ways.\\\\n\\\\nOh, cats of grace, of mind so free,\\\\nYou dance through life so wild, so free.\\\\nA gift you are, so soft, so bright,\\\\nA whisper in the still of night.\", \"file_name\": \"whispers_of_the_night.txt\"}\\n```<｜tool▁call▁end｜><｜tool▁calls▁end｜>', additional_kwargs={}, response_metadata={}, name='doc_writer', id='288f1fd6-c340-4a41-b772-bdf6c01c08f2')]}}\n",
            "---\n",
            "{'supervisor': {'next': 'note_taker'}}\n",
            "---\n",
            "{'note_taker': {'messages': [HumanMessage(content='The poem \"Whispers of the Night\" has been written and saved to the file `whispers_of_the_night.txt`. Here\\'s the outline for the poem:\\n\\n### Outline for \"Whispers of the Night\":\\n1. **Introduction to Cats\\' Mystique**\\n   - Description of cats moving in shadows.\\n   - Their eyes and their role in the night.\\n\\n2. **Playfulness and Grace**\\n   - Their playful nature and movements.\\n   - The world as their playground.\\n\\n3. **Comfort and Warmth**\\n   - Their calming presence by the fire.\\n   - The bond they share with humans.\\n\\n4. **Silent Communication**\\n   - The unspoken language of their gaze.\\n   - The depth of their connection.\\n\\n5. **Conclusion: A Tribute to Cats**\\n   - Celebrating their grace and freedom.\\n   - Their significance in quiet moments. \\n\\nWould you like me to save this outline to a file as well?', additional_kwargs={}, response_metadata={}, name='note_taker', id='e3358d43-e310-4005-94f8-6c36a8764980')]}}\n",
            "---\n",
            "{'supervisor': {'next': 'note_taker'}}\n",
            "---\n",
            "{'note_taker': {'messages': [HumanMessage(content='The outline for the poem \"Whispers of the Night\" has been saved to the file `whispers_of_the_night_outline.txt`. Let me know if you\\'d like any further assistance!', additional_kwargs={}, response_metadata={}, name='note_taker', id='02e8db22-fd78-414e-8f4b-6fd291b4ee29')]}}\n",
            "---\n",
            "{'supervisor': {'next': '__end__'}}\n",
            "---\n"
          ]
        }
      ],
      "source": [
        "for s in paper_writing_graph.stream(\n",
        "    {\n",
        "        \"messages\": [\n",
        "            (\n",
        "                \"user\",\n",
        "                \"Write an outline for poem about cats and then write the poem to disk.\",\n",
        "            )\n",
        "        ]\n",
        "    },\n",
        "    {\"recursion_limit\": 100},\n",
        "):\n",
        "    print(s)\n",
        "    print(\"---\")"
      ]
    },
    {
      "cell_type": "markdown",
      "id": "f4b5b08d-9a9a-474a-94b4-f7aaa8ff19e6",
      "metadata": {
        "id": "f4b5b08d-9a9a-474a-94b4-f7aaa8ff19e6"
      },
      "source": [
        "## Add Layers\n",
        "\n",
        "In this design, we are enforcing a top-down planning policy. We've created two graphs already, but we have to decide how to route work between the two.\n",
        "\n",
        "We'll create a _third_ graph to orchestrate the previous two, and add some connectors to define how this top-level state is shared between the different graphs."
      ]
    },
    {
      "cell_type": "code",
      "execution_count": 15,
      "id": "8cbfbe34-43f5-4a3d-8e9b-6a1d9b339aec",
      "metadata": {
        "id": "8cbfbe34-43f5-4a3d-8e9b-6a1d9b339aec"
      },
      "outputs": [],
      "source": [
        "from langchain_core.messages import BaseMessage\n",
        "\n",
        "\n",
        "\n",
        "teams_supervisor_node = make_supervisor_node(llm, [\"research_team\", \"writing_team\"])"
      ]
    },
    {
      "cell_type": "code",
      "execution_count": 16,
      "id": "4880e573-612f-4d24-97c1-2079382a4a2f",
      "metadata": {
        "ExecuteTime": {
          "end_time": "2024-05-15T08:19:55.469348Z",
          "start_time": "2024-05-15T08:19:55.455831Z"
        },
        "id": "4880e573-612f-4d24-97c1-2079382a4a2f"
      },
      "outputs": [],
      "source": [
        "def call_research_team(state: State) -> Command[Literal[\"supervisor\"]]:\n",
        "    response = research_graph.invoke({\"messages\": state[\"messages\"][-1]})\n",
        "    return Command(\n",
        "        update={\n",
        "            \"messages\": [\n",
        "                HumanMessage(\n",
        "                    content=response[\"messages\"][-1].content, name=\"research_team\"\n",
        "                )\n",
        "            ]\n",
        "        },\n",
        "        goto=\"supervisor\",\n",
        "    )\n",
        "\n",
        "\n",
        "def call_paper_writing_team(state: State) -> Command[Literal[\"supervisor\"]]:\n",
        "    response = paper_writing_graph.invoke({\"messages\": state[\"messages\"][-1]})\n",
        "    return Command(\n",
        "        update={\n",
        "            \"messages\": [\n",
        "                HumanMessage(\n",
        "                    content=response[\"messages\"][-1].content, name=\"writing_team\"\n",
        "                )\n",
        "            ]\n",
        "        },\n",
        "        goto=\"supervisor\",\n",
        "    )\n",
        "\n",
        "\n",
        "# Define the graph.\n",
        "super_builder = StateGraph(State)\n",
        "super_builder.add_node(\"supervisor\", teams_supervisor_node)\n",
        "super_builder.add_node(\"research_team\", call_research_team)\n",
        "super_builder.add_node(\"writing_team\", call_paper_writing_team)\n",
        "\n",
        "super_builder.add_edge(START, \"supervisor\")\n",
        "super_graph = super_builder.compile()"
      ]
    },
    {
      "cell_type": "code",
      "execution_count": 17,
      "id": "270ff3ae26cd42ff",
      "metadata": {
        "ExecuteTime": {
          "end_time": "2024-05-15T08:32:33.694459Z",
          "start_time": "2024-05-15T08:32:31.524790Z"
        },
        "colab": {
          "base_uri": "https://localhost:8080/",
          "height": 266
        },
        "id": "270ff3ae26cd42ff",
        "outputId": "5a85197e-7a59-46de-a310-eea26ab637dd"
      },
      "outputs": [
        {
          "output_type": "display_data",
          "data": {
            "image/png": "[encoded data removed]",
            "text/plain": [
              "<IPython.core.display.Image object>"
            ]
          },
          "metadata": {}
        }
      ],
      "source": [
        "from IPython.display import Image, display\n",
        "\n",
        "display(Image(super_graph.get_graph().draw_mermaid_png()))"
      ]
    },
    {
      "cell_type": "code",
      "execution_count": 18,
      "id": "6b8badbf-d728-44bd-a2a7-5b4e587c92fe",
      "metadata": {
        "ExecuteTime": {
          "end_time": "2024-05-15T08:19:55.796497Z",
          "start_time": "2024-05-15T08:19:55.796497Z"
        },
        "colab": {
          "base_uri": "https://localhost:8080/"
        },
        "id": "6b8badbf-d728-44bd-a2a7-5b4e587c92fe",
        "outputId": "3707c376-f234-4660-d66b-be2184ac7fe9"
      },
      "outputs": [
        {
          "output_type": "stream",
          "name": "stdout",
          "text": [
            "{'supervisor': {'next': 'research_team'}}\n",
            "---\n",
            "{'research_team': {'messages': [HumanMessage(content='### Brief Report on AI Agents\\n\\n#### Introduction\\nAI agents are intelligent systems designed to perform tasks autonomously or assist humans in various domains, including research, automation, and scientific discovery. These agents leverage advanced technologies like large language models (LLMs), machine learning, and natural language processing to analyze data, generate insights, and even collaborate with humans or other agents.\\n\\n#### Key Applications of AI Agents\\n1. **Scientific Research**:\\n   - AI agents assist researchers by refining hypotheses, executing tasks for hypothesis testing, and using tools for scientific discovery. They can generalize across new tasks with minimal examples (few-shot and zero-shot learning).\\n   - Example: LLM-based agents work collaboratively with scientists to accelerate research processes.\\n\\n2. **Data Analysis**:\\n   - AI agents automate the analysis of large datasets, uncovering patterns and insights that might be missed by human researchers.\\n   - Example: Analyzing product lifecycles to suggest improvements or new product launches.\\n\\n3. **Automation**:\\n   - These agents can handle repetitive tasks, freeing up human researchers to focus on creative or strategic aspects of their work.\\n\\n4. **Collaborative Environments**:\\n   - AI agents exhibit emergent social behaviors like cooperation and competition, making them suitable for teamwork in research and business settings.\\n\\n#### Key Capabilities\\n- **Adaptability**: AI agents can quickly adapt to new tasks with minimal training.\\n- **Versatility**: They are used in diverse fields, from software development to market research.\\n- **Natural Interaction**: Their ability to communicate naturally with humans and other agents enhances collaboration.\\n\\n#### Tools and Platforms\\n- **AutoGen Studio**: Used for rapid prototyping of AI agents.\\n- **crewAI**: Facilitates sophisticated data analysis for research tasks.\\n\\n#### Conclusion\\nAI agents are revolutionizing research and automation by providing intelligent, adaptable, and collaborative solutions. Their applications span scientific discovery, data analysis, and beyond, making them invaluable tools in modern research and industry.\\n\\nFor further reading:\\n- [AI Agents: Research & Applications](https://accelxr.substack.com/p/ai-agents-research-and-applications)\\n- [AI Agents in Research](https://www.leewayhertz.com/ai-agents-in-research/)', additional_kwargs={}, response_metadata={}, name='research_team', id='4482e4ac-679a-4537-b0f7-405e4d98332f')]}}\n",
            "---\n",
            "{'supervisor': {'next': '__end__'}}\n",
            "---\n"
          ]
        }
      ],
      "source": [
        "for s in super_graph.stream(\n",
        "    {\n",
        "        \"messages\": [\n",
        "            (\"user\", \"Research AI agents and write a brief report about them.\")\n",
        "        ],\n",
        "    },\n",
        "    {\"recursion_limit\": 150},\n",
        "):\n",
        "    print(s)\n",
        "    print(\"---\")"
      ]
    }
  ],
  "metadata": {
    "kernelspec": {
      "display_name": "Python 3 (ipykernel)",
      "language": "python",
      "name": "python3"
    },
    "language_info": {
      "codemirror_mode": {
        "name": "ipython",
        "version": 3
      },
      "file_extension": ".py",
      "mimetype": "text/x-python",
      "name": "python",
      "nbconvert_exporter": "python",
      "pygments_lexer": "ipython3",
      "version": "3.12.3"
    },
    "colab": {
      "provenance": [],
      "include_colab_link": true
    }
  },
  "nbformat": 4,
  "nbformat_minor": 5
}